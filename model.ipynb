{
 "cells": [
  {
   "cell_type": "markdown",
   "metadata": {},
   "source": [
    "# Model"
   ]
  },
  {
   "cell_type": "markdown",
   "metadata": {},
   "source": [
    "##  Model Formulation\n",
    "\n",
    "\n",
    "### Sets and Indices\n",
    "\n",
    "$i,j \\in \\text{Customers} \\equiv L=\\{0,1..(n-1)\\}$: Set of locations where $0$ is the depot, and $n$ is the number of customers.\n",
    "\n",
    "$k \\in \\text{Trucks} \\equiv  V=\\{0..K-1\\}$: Index and set of trucks, where $K$ is the number of trucks.\n",
    "\n",
    "### Parameters\n",
    "\n",
    "$d_{i,j} \\in \\mathbb{R}^+$: Distance (total service time) from customer $i$ to customer $j$.\n",
    "\n",
    "### Decision Variables\n",
    "\n",
    "$x_{i,j,k} \\in \\{0,1 \\}$: This binary variable is equal 1, if truck $k$ visits and goes directly from location $i$ to location $j$, and zero otherwise.\n",
    "\n",
    "$y_{i,k} \\in \\{0,1 \\}$: This binary variable is equal 1, if truck $k$ visits location $i$, and zero otherwise.\n",
    "\n",
    "$z_{k} \\in \\{0,1 \\}$: This binary variable is equal 1, if truck $k \\in \\{1,2..K\\}$ is used, and zero otherwise.\n",
    "\n",
    "### Objective Function\n",
    "\n",
    "**Number of trucks**: Minimize number of trucks used.\n",
    "\n",
    "\\begin{equation}\n",
    "\\text{Minimize} \\quad \\sum_{k = 1}^{K} z_k\n",
    "\\end{equation}\n",
    "\n",
    "### Constraints\n",
    "\n",
    "**truck utilization**: For all locations different from the depot, i.e. $i > 0$, if the location is visited by truck $k$, then it is used.\n",
    "\n",
    "\\begin{equation}\n",
    "y_{i,k} \\leq z_{k} \\quad \\forall i \\in L \\setminus \\{0\\}, \\; k \\in V\n",
    "\\end{equation}\n",
    "\n",
    "\n",
    "**Visit all customers**:  Each customer location is visited by exactly one truck.\n",
    "\n",
    "\\begin{equation}\n",
    "\\sum_{k \\in V}  y_{i,k} = 1 \\quad \\forall i \\in L \\setminus \\{0\\}\n",
    "\\end{equation}\n",
    "\n",
    "**Depot**: Depot is visited by every truck used. \n",
    "\n",
    "\\begin{equation}\n",
    "\\sum_{k \\in V}  y_{0,k} \\geq \\sum_{k \\in V} z_k\n",
    "\\end{equation}\n",
    "\n",
    "**Arriving at a location**: If location $j$ is visited by truck $k$, then the truck is coming from another location $i$.\n",
    "\n",
    "\\begin{equation}\n",
    "\\sum_{i \\in L}  x_{i,j,k} =  y_{j,k}  \\quad \\forall j \\in L, \\; k \\in V\n",
    "\\end{equation}\n",
    "\n",
    "**Leaving a location**: If truck $k$ leaves location $j$, then the truck is going to another location $i$.\n",
    "\n",
    "\\begin{equation}\n",
    "\\sum_{i \\in L}  x_{j,i,k} = y_{j,k}  \\quad \\forall j \\in L, \\; k \\in V\n",
    "\\end{equation}\n",
    "\n",
    "**Breaking symmetry**: **I GUESS** this is to minimize number of trucks used. we want to utilize previous trucks as much as possible before adding new ones\n",
    "\n",
    "\\begin{equation}\n",
    "\\sum_{i \\in L}  y_{i,k} \\geq \\sum_{i \\in L}  y_{i,k+1} \\quad \\forall k \\in  \\{0..K-1\\}\n",
    "\\end{equation}\n",
    "\n",
    "**Time windows**: Keep track of opening and closing times for each location.\n",
    "$$O_i \\leq s_i$$\n",
    "\n",
    "$$s_i \\leq C_i$$\n",
    "\n",
    "**Timeline**: keep track of time to avoid subtours via big $M$ and either-or\n",
    "$$s_i+d_{ij}-s_j \\leq M(1-x_{ijk})$$\n",
    "\n",
    "**max time contraint**: this is simplified at the moment, we are assuming each vehicle only takes 1 tour.\n",
    "<!-- $$C_N = T_{max}$$ -->\n",
    "$$C_0 = T_{max}$$"
   ]
  },
  {
   "cell_type": "markdown",
   "metadata": {},
   "source": [
    "## Python Implementation\n",
    "\n",
    "We import the Gurobi Python Module and other Python libraries."
   ]
  },
  {
   "cell_type": "code",
   "execution_count": 138,
   "metadata": {},
   "outputs": [],
   "source": [
    "import sys\n",
    "import math\n",
    "import random\n",
    "from itertools import permutations\n",
    "import gurobipy as gp\n",
    "from gurobipy import GRB\n",
    "import matplotlib.pyplot as plt\n",
    "\n",
    "# tested with Python 3.7.0 & Gurobi 9.1.0"
   ]
  },
  {
   "cell_type": "markdown",
   "metadata": {},
   "source": [
    "## Input data  \n",
    "We define all the input data for the model. The user defines the number of locations, including the depot, and the number of trucks. We randomly determine the coordinates of each location and then calculate the Euclidean distance between each pair of locations. We assume a speed of 60 km/hr, which is 1 km/min. Hence travel time is equal to the distance."
   ]
  },
  {
   "cell_type": "code",
   "execution_count": 139,
   "metadata": {},
   "outputs": [],
   "source": [
    "# number of locations, including the depot. The index of the depot is 0\n",
    "n = 5\n",
    "locations = [*range(n)]\n",
    "\n",
    "# number of trucks\n",
    "K = 3\n",
    "trucks = [*range(K)]\n",
    "\n",
    "\n",
    "\n",
    "# Create n random points\n",
    "# Depot is located at (0,0) coordinates\n",
    "random.seed(1)\n",
    "points = [(0, 0)]\n",
    "points += [(random.randint(0, 50), random.randint(0, 50)) for i in range(n-1)]\n",
    "\n",
    "# Dictionary of Euclidean distance between each pair of points\n",
    "# Assume a speed of 60 km/hr, which is 1 km/min. Hence travel time = distance\n",
    "time = {(i, j):\n",
    "        math.sqrt(sum((points[i][k]-points[j][k])**2 for k in range(2)))\n",
    "        for i in locations for j in locations if i != j}\n",
    "\n",
    "# big M\n",
    "M = 1000 #TODO: to be changes"
   ]
  },
  {
   "cell_type": "code",
   "execution_count": 140,
   "metadata": {},
   "outputs": [
    {
     "data": {
      "text/plain": [
       "<matplotlib.collections.PathCollection at 0x27aea0b56d0>"
      ]
     },
     "execution_count": 140,
     "metadata": {},
     "output_type": "execute_result"
    },
    {
     "data": {
      "image/png": "[encoded data removed]",
      "text/plain": [
       "<Figure size 432x288 with 1 Axes>"
      ]
     },
     "metadata": {
      "needs_background": "light"
     },
     "output_type": "display_data"
    }
   ],
   "source": [
    "plt.scatter([x[0] for x in points], [x[1] for x in points])"
   ]
  },
  {
   "cell_type": "markdown",
   "metadata": {},
   "source": [
    "## Model Deployment\n",
    "\n",
    "We create a model and the variables. The decision variables determines the order in which each van visits a subset of custormers, which customer is visited by each van, and if a van is used or not."
   ]
  },
  {
   "cell_type": "code",
   "execution_count": 141,
   "metadata": {},
   "outputs": [],
   "source": [
    "m = gp.Model('lost_luggage_distribution.lp')\n",
    "\n",
    "# Create variables: \n",
    "\n",
    "# x =1, if van  k  visits and goes directly from location  i  to location  j \n",
    "x = m.addVars(time.keys(), trucks, vtype=GRB.BINARY, name='FromToBy')\n",
    "\n",
    "# y = 1, if customer i is visited by van k\n",
    "y = m.addVars(locations, trucks, vtype=GRB.BINARY, name='visitBy')\n",
    "\n",
    "# Number of trucks used is a decision variable\n",
    "z = m.addVars(trucks, vtype=GRB.BINARY, name='used')\n",
    "\n",
    "# Travel time per truck\n",
    "t = m.addVars(trucks, name='travelTime') #TODO: add ub here for max TT\n",
    "\n",
    "# Maximum travel time\n",
    "T = m.addVar(name='maxTravelTime')\n",
    "\n",
    "# Opening times o_i\n",
    "o = m.addVars(locations, name='openingTime')\n",
    "\n",
    "# Closing times\n",
    "c = m.addVars(locations, name='closingTime')\n",
    "\n",
    "# Service times s_i\n",
    "serviceTime = m.addVars(locations, name='serviceTime')"
   ]
  },
  {
   "cell_type": "markdown",
   "metadata": {},
   "source": [
    "## Constraints\n",
    "\n",
    "For all locations different from depot, i.e. $i > 0$, if the location is visited by van $k$, then it is used."
   ]
  },
  {
   "cell_type": "code",
   "execution_count": 142,
   "metadata": {},
   "outputs": [],
   "source": [
    "# Truck utilization constraint\n",
    "visitCustomer = m.addConstrs((y[i,k] <= z[k]  for k in trucks for i in locations if i > 0), name='visitCustomer' )"
   ]
  },
  {
   "cell_type": "code",
   "execution_count": 143,
   "metadata": {},
   "outputs": [],
   "source": [
    "# Travel time constraint\n",
    "# Exclude the time to return to the depot\n",
    "\n",
    "travelTime = m.addConstrs((gp.quicksum(time[i,j]*x[i,j,k] for i,j in time.keys() if j > 0) == t[k] for k in trucks), name='travelTimeConstr')\n",
    "\n",
    "maxTravelTime = m.addConstrs((t[k] <= T for k in trucks), name='maxTravelTimeConstr')"
   ]
  },
  {
   "cell_type": "markdown",
   "metadata": {},
   "source": [
    "Each customer location is visited by exactly one van"
   ]
  },
  {
   "cell_type": "code",
   "execution_count": 144,
   "metadata": {},
   "outputs": [],
   "source": [
    "# Visit all customers\n",
    "visitAll = m.addConstrs((y.sum(i,'*') == 1 for i in locations if i > 0), name='visitAll' )"
   ]
  },
  {
   "cell_type": "markdown",
   "metadata": {},
   "source": [
    "Depot is visited by every van used."
   ]
  },
  {
   "cell_type": "code",
   "execution_count": 145,
   "metadata": {},
   "outputs": [],
   "source": [
    "# Depot constraint\n",
    "depotConstr = m.addConstr(y.sum(0,'*') >= z.sum(), name='depotConstr' )"
   ]
  },
  {
   "cell_type": "markdown",
   "metadata": {},
   "source": [
    "If location  j  is visited by van  k , then the van is coming from another location  i."
   ]
  },
  {
   "cell_type": "code",
   "execution_count": 146,
   "metadata": {},
   "outputs": [],
   "source": [
    "# Arriving at a customer location constraint\n",
    "ArriveConstr = m.addConstrs((x.sum('*',j,k) == y[j,k] for j,k in y.keys()), name='ArriveConstr' )"
   ]
  },
  {
   "cell_type": "markdown",
   "metadata": {},
   "source": [
    " If van  k  leaves location  j , then the van is going to another location  i."
   ]
  },
  {
   "cell_type": "code",
   "execution_count": 147,
   "metadata": {},
   "outputs": [],
   "source": [
    "# Leaving a customer location constraint\n",
    "LeaveConstr = m.addConstrs((x.sum(j,'*',k) == y[j,k] for j,k in y.keys()), name='LeaveConstr' )"
   ]
  },
  {
   "cell_type": "markdown",
   "metadata": {},
   "source": [
    "Breaking symmetry constraints."
   ]
  },
  {
   "cell_type": "code",
   "execution_count": 148,
   "metadata": {},
   "outputs": [],
   "source": [
    "breakSymm = m.addConstrs((y.sum('*',k-1) >= y.sum('*',k) for k in trucks if k>0), name='breakSymm' )"
   ]
  },
  {
   "cell_type": "markdown",
   "metadata": {},
   "source": [
    "NEW: Adding time windows"
   ]
  },
  {
   "cell_type": "code",
   "execution_count": 149,
   "metadata": {},
   "outputs": [],
   "source": [
    "# openingConstr = m.addConstrs((o[i]<=serviceTime[i] for i in locations)\n",
    "#     , name='openingConstr')\n",
    "\n",
    "# closingConstr = m.addConstrs((c[i]>=serviceTime[i] for i in locations)\n",
    "#     , name='closingConstr')   "
   ]
  },
  {
   "cell_type": "markdown",
   "metadata": {},
   "source": [
    "NEW: timeline"
   ]
  },
  {
   "cell_type": "code",
   "execution_count": 150,
   "metadata": {},
   "outputs": [],
   "source": [
    "#d[i,j] is our final goal\n",
    "# timelineConstr = m.addConstrs((serviceTime[i] + time[i,j] - serviceTime[j] <= M*(1-x[i,j,k]) for i,j,k in x.keys())\n",
    "#     , name='timelineConstr'\n",
    "# )"
   ]
  },
  {
   "cell_type": "markdown",
   "metadata": {},
   "source": [
    "NEW: max time"
   ]
  },
  {
   "cell_type": "code",
   "execution_count": 151,
   "metadata": {},
   "outputs": [],
   "source": [
    "# maxTimeConstr = m.addConstr(c[0] == T\n",
    "#     , name='maxTimeConstr'\n",
    "# )"
   ]
  },
  {
   "cell_type": "markdown",
   "metadata": {},
   "source": [
    "### Objective Function\n",
    "We use two hierarchical objectives:\n",
    "- First, minimize the number of trucks used\n",
    "- Then, minimize the maximum of the time limit constraints"
   ]
  },
  {
   "cell_type": "code",
   "execution_count": 152,
   "metadata": {},
   "outputs": [],
   "source": [
    "m.ModelSense = GRB.MINIMIZE\n",
    "m.setObjectiveN(z.sum(), 0, priority=1, name=\"Number of trucks\")\n",
    "m.setObjectiveN(T, 1, priority=0, name=\"Travel time\")"
   ]
  },
  {
   "cell_type": "markdown",
   "metadata": {},
   "source": [
    "### Callback Definition\n",
    "Subtour constraints prevent a van from visiting a set of destinations without starting or ending at the Heathrow depot. Because there are an exponential number of these constraints, we don't want to add them all to the model. Instead, we use a callback function to find violated subtour constraints and add them to the model as lazy constraints."
   ]
  },
  {
   "cell_type": "code",
   "execution_count": 153,
   "metadata": {},
   "outputs": [],
   "source": [
    "# Callback - use lazy constraints to eliminate sub-tours\n",
    "def subtourelim(model, where):\n",
    "    if where == GRB.Callback.MIPSOL:\n",
    "        # make a list of edges selected in the solution\n",
    "        vals = model.cbGetSolution(model._x)\n",
    "        selected = gp.tuplelist((i,j) for i, j, k in model._x.keys()\n",
    "                                if vals[i, j, k] > 0.5)\n",
    "        # find the shortest cycle in the selected edge list\n",
    "        tour = subtour(selected)\n",
    "        if len(tour) < n: \n",
    "            for k in trucks:\n",
    "                model.cbLazy(gp.quicksum(model._x[i, j, k]\n",
    "                                         for i, j in permutations(tour, 2))\n",
    "                             <= len(tour)-1)\n",
    "\n",
    "\n",
    "# Given a tuplelist of edges, find the shortest subtour not containing depot (0)\n",
    "def subtour(edges):\n",
    "    unvisited = list(range(1, n))\n",
    "    cycle = range(n+1)  # initial length has 1 more city\n",
    "    while unvisited:\n",
    "        thiscycle = []\n",
    "        neighbors = unvisited\n",
    "        while neighbors:\n",
    "            current = neighbors[0]\n",
    "            thiscycle.append(current)\n",
    "            if current != 0:\n",
    "                unvisited.remove(current)\n",
    "            neighbors = [j for i, j in edges.select(current, '*')\n",
    "                         if j == 0 or j in unvisited]\n",
    "        if 0 not in thiscycle and len(cycle) > len(thiscycle):\n",
    "            cycle = thiscycle\n",
    "    return cycle"
   ]
  },
  {
   "cell_type": "markdown",
   "metadata": {},
   "source": [
    "## Solve the model"
   ]
  },
  {
   "cell_type": "code",
   "execution_count": 154,
   "metadata": {},
   "outputs": [
    {
     "name": "stdout",
     "output_type": "stream",
     "text": [
      "Set parameter LazyConstraints to value 1\n",
      "Gurobi Optimizer version 9.5.1 build v9.5.1rc2 (win64)\n",
      "Thread count: 4 physical cores, 8 logical processors, using up to 8 threads\n",
      "Optimize a model with 55 rows, 97 columns and 269 nonzeros\n",
      "Model fingerprint: 0xfd3b97cd\n",
      "Variable types: 19 continuous, 78 integer (78 binary)\n",
      "Coefficient statistics:\n",
      "  Matrix range     [1e+00, 6e+01]\n",
      "  Objective range  [1e+00, 1e+00]\n",
      "  Bounds range     [1e+00, 6e+01]\n",
      "  RHS range        [1e+00, 1e+00]\n",
      "\n",
      "---------------------------------------------------------------------------\n",
      "Multi-objectives: starting optimization with 2 objectives ... \n",
      "---------------------------------------------------------------------------\n",
      "\n",
      "Multi-objectives: applying initial presolve ...\n",
      "---------------------------------------------------------------------------\n",
      "\n",
      "Presolve removed 41 rows and 63 columns\n",
      "Presolve time: 0.01s\n",
      "Presolved: 14 rows and 34 columns\n",
      "---------------------------------------------------------------------------\n",
      "\n",
      "Multi-objectives: optimize objective 1 (Number of trucks) ...\n",
      "---------------------------------------------------------------------------\n",
      "\n",
      "Found heuristic solution: objective 3.0000000\n",
      "Presolve time: 0.00s\n",
      "Presolved: 14 rows, 34 columns, 57 nonzeros\n",
      "Variable types: 19 continuous, 15 integer (15 binary)\n",
      "\n",
      "Root relaxation: cutoff, 18 iterations, 0.00 seconds (0.00 work units)\n",
      "\n",
      "    Nodes    |    Current Node    |     Objective Bounds      |     Work\n",
      " Expl Unexpl |  Obj  Depth IntInf | Incumbent    BestBd   Gap | It/Node Time\n",
      "\n",
      "     0     0     cutoff    0         3.00000    3.00000  0.00%     -    0s\n",
      "\n",
      "Explored 1 nodes (18 simplex iterations) in 0.04 seconds (0.00 work units)\n",
      "Thread count was 8 (of 8 available processors)\n",
      "\n",
      "Solution count 1: 3 \n",
      "\n",
      "Optimal solution found (tolerance 1.00e-04)\n",
      "Best objective 3.000000000000e+00, best bound 3.000000000000e+00, gap 0.0000%\n",
      "---------------------------------------------------------------------------\n",
      "\n",
      "Multi-objectives: optimize objective 2 (Travel time) ...\n",
      "---------------------------------------------------------------------------\n",
      "\n",
      "\n",
      "Loaded user MIP start with objective 2e+09\n",
      "\n",
      "Presolve removed 1 rows and 0 columns\n",
      "Presolve time: 0.00s\n",
      "Presolved: 14 rows, 34 columns, 57 nonzeros\n",
      "Variable types: 19 continuous, 15 integer (15 binary)\n",
      "\n",
      "Root relaxation: objective 4.891130e+01, 16 iterations, 0.00 seconds (0.00 work units)\n",
      "\n",
      "    Nodes    |    Current Node    |     Objective Bounds      |     Work\n",
      " Expl Unexpl |  Obj  Depth IntInf | Incumbent    BestBd   Gap | It/Node Time\n",
      "\n",
      "     0     0   48.91130    0    7 2.0000e+09   48.91130   100%     -    0s\n",
      "H    0     0                      57.1401785   48.91130  14.4%     -    0s\n",
      "     0     0   50.85132    0    7   57.14018   50.85132  11.0%     -    0s\n",
      "     0     0   50.99656    0    7   57.14018   50.99656  10.8%     -    0s\n",
      "     0     0   53.87547    0    7   57.14018   53.87547  5.71%     -    0s\n",
      "     0     0   54.35828    0    8   57.14018   54.35828  4.87%     -    0s\n",
      "     0     0   54.35828    0    7   57.14018   54.35828  4.87%     -    0s\n",
      "     0     0   55.17040    0    8   57.14018   55.17040  3.45%     -    0s\n",
      "     0     0   55.17040    0    6   57.14018   55.17040  3.45%     -    0s\n",
      "     0     0   55.17040    0    6   57.14018   55.17040  3.45%     -    0s\n",
      "     0     1   55.17040    0    6   57.14018   55.17040  3.45%     -    0s\n",
      "\n",
      "Cutting planes:\n",
      "  MIR: 1\n",
      "  Relax-and-lift: 2\n",
      "\n",
      "Explored 2 nodes (37 simplex iterations) in 0.08 seconds (0.00 work units)\n",
      "Thread count was 8 (of 8 available processors)\n",
      "\n",
      "Solution count 2: 57.1402 2e+09 \n",
      "\n",
      "Optimal solution found (tolerance 1.00e-04)\n",
      "Best objective 5.714017850865e+01, best bound 5.714017850865e+01, gap 0.0000%\n",
      "\n",
      "---------------------------------------------------------------------------\n",
      "Multi-objectives: solved in 0.09 seconds (0.00 work units), solution count 2\n",
      "\n",
      "\n",
      "User-callback calls 481, time in user-callback 0.02 sec\n"
     ]
    }
   ],
   "source": [
    "# Verify model formulation\n",
    "\n",
    "m.write('lost_luggage_distribution.lp')\n",
    "\n",
    "# Run optimization engine\n",
    "m._x = x\n",
    "m.Params.LazyConstraints = 1\n",
    "m.optimize(subtourelim)"
   ]
  },
  {
   "cell_type": "markdown",
   "metadata": {},
   "source": [
    "## Analysis\n",
    "\n",
    "The optimal route of each van used and the total lost luggage delivery time report follows."
   ]
  },
  {
   "cell_type": "code",
   "execution_count": 155,
   "metadata": {
    "scrolled": true
   },
   "outputs": [
    {
     "name": "stdout",
     "output_type": "stream",
     "text": [
      "Route for van 0: 0 -> 3 -> 2 -> 0. Travel time: 49.6 min\n",
      "Route for van 1: 0 -> 1 -> 0. Travel time: 36.88 min\n",
      "Route for van 2: 0 -> 4 -> 0. Travel time: 57.14 min\n",
      "Max travel time: 57.14\n"
     ]
    }
   ],
   "source": [
    "# Print optimal routes\n",
    "for k in trucks:\n",
    "    route = gp.tuplelist((i,j) for i,j in time.keys() if x[i,j,k].X > 0.5)\n",
    "    if route:\n",
    "        i = 0\n",
    "        print(f\"Route for van {k}: {i}\", end='')\n",
    "        while True:\n",
    "            i = route.select(i, '*')[0][1]\n",
    "            print(f\" -> {i}\", end='')\n",
    "            if i == 0:\n",
    "                break\n",
    "        print(f\". Travel time: {round(t[k].X,2)} min\")\n",
    "\n",
    "print(f\"Max travel time: {round(T.X,2)}\")"
   ]
  },
  {
   "cell_type": "markdown",
   "metadata": {},
   "source": [
    "## References\n",
    "\n",
    "H. Paul Williams, Model Building in Mathematical Programming, fifth edition.\n",
    "\n",
    "Copyright © 2020 Gurobi Optimization, LLC"
   ]
  }
 ],
 "metadata": {
  "kernelspec": {
   "display_name": "Python 3",
   "language": "python",
   "name": "python3"
  },
  "language_info": {
   "codemirror_mode": {
    "name": "ipython",
    "version": 3
   },
   "file_extension": ".py",
   "mimetype": "text/x-python",
   "name": "python",
   "nbconvert_exporter": "python",
   "pygments_lexer": "ipython3",
   "version": "3.9.7"
  }
 },
 "nbformat": 4,
 "nbformat_minor": 2
}
