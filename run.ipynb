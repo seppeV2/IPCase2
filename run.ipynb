{
 "cells": [
  {
   "cell_type": "markdown",
   "metadata": {},
   "source": [
    "Run the script, to define all necessary functions."
   ]
  },
  {
   "cell_type": "code",
   "execution_count": 1,
   "metadata": {},
   "outputs": [],
   "source": [
    "%run distanceMatrix.py"
   ]
  },
  {
   "cell_type": "code",
   "execution_count": 2,
   "metadata": {},
   "outputs": [
    {
     "name": "stdout",
     "output_type": "stream",
     "text": [
      "depot to client\n",
      "\n",
      "[[  1.  40.]\n",
      " [ 13. 160.]\n",
      " [ 18.  40.]\n",
      " [  8.  66.]\n",
      " [ 12.  22.]\n",
      " [ 24.  45.]\n",
      " [ 25.  72.]\n",
      " [ 69. 111.]]\n",
      "\n",
      "last to depot\n",
      "\n",
      "[[1.00e+00 4.00e+01]\n",
      " [1.30e+01 1.60e+02]\n",
      " [1.80e+01 4.00e+01]\n",
      " [8.00e+00 6.60e+01]\n",
      " [1.20e+01 2.20e+01]\n",
      " [2.40e+01 4.50e+01]\n",
      " [2.50e+01 7.20e+01]\n",
      " [6.90e+01 1.11e+02]\n",
      " [1.00e-01 7.20e+01]\n",
      " [3.00e-01 1.18e+02]\n",
      " [3.00e-01 1.40e+01]\n",
      " [4.00e-01 4.00e+01]]\n",
      "\n",
      "distance (actually time) matrix, diagonal elements == service time\n",
      "\n",
      "12\n",
      "38.673368027289776\n",
      "58.673368027289776\n",
      "85.34673605457955\n",
      "97.34673605457955\n",
      "[[ 97. 206.  86.  89.  68.  64. 119. 110.]\n",
      " [234.  40. 205. 260. 178. 239. 119. 305.]\n",
      " [117. 208.  25. 142.  66. 121. 117. 187.]\n",
      " [ 89. 232. 112. 221.  94.  24. 144. 176.]\n",
      " [ 19. 188.  68.  74.  12.  50. 100. 111.]\n",
      " [132. 223. 107. 157.  81.  12. 131. 202.]\n",
      " [157. 128. 133. 183. 104. 162.  30. 228.]\n",
      " [110. 277. 157. 176. 139. 156. 189. 264.]]\n"
     ]
    }
   ],
   "source": [
    "print(\"depot to client\\n\")\n",
    "print(depotToClient('clientsTest.csv', 'belgian-cities-geocoded.csv'))\n",
    "print(\"\\nlast to depot\\n\")\n",
    "print(lastToDepot('clientsTest.csv', 'WPF.csv','belgian-cities-geocoded.csv'))\n",
    "print(\"\\ndistance (actually time) matrix, diagonal elements == service time\\n\")\n",
    "matrix = createDistanceMatrix('clientsTest.csv', 'belgian-cities-geocoded.csv', 'WPF.csv')\n",
    "pd.DataFrame(matrix).to_csv('distanceMatrix.csv')\n"
   ]
  }
 ],
 "metadata": {
  "interpreter": {
   "hash": "1ebd53531a265123f8d6b96a0394cf5c6958acea593669dc45d7411847354196"
  },
  "kernelspec": {
   "display_name": "Python 3",
   "language": "python",
   "name": "python3"
  },
  "language_info": {
   "codemirror_mode": {
    "name": "ipython",
    "version": 3
   },
   "file_extension": ".py",
   "mimetype": "text/x-python",
   "name": "python",
   "nbconvert_exporter": "python",
   "pygments_lexer": "ipython3",
   "version": "3.9.7"
  },
  "orig_nbformat": 4
 },
 "nbformat": 4,
 "nbformat_minor": 2
}
